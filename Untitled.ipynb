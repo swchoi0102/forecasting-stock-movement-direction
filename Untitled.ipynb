{
 "cells": [
  {
   "cell_type": "code",
   "execution_count": 46,
   "metadata": {
    "collapsed": true
   },
   "outputs": [],
   "source": [
    "from pandas_datareader import data, wb\n",
    "from datetime import datetime\n",
    "import math\n",
    "from sklearn.model_selection import train_test_split\n",
    "from sklearn.svm import SVC\n",
    "from sklearn.discriminant_analysis import LinearDiscriminantAnalysis\n",
    "from sklearn.discriminant_analysis import QuadraticDiscriminantAnalysis\n",
    "import numpy as np\n",
    "from sklearn.metrics import accuracy_score"
   ]
  },
  {
   "cell_type": "code",
   "execution_count": 47,
   "metadata": {},
   "outputs": [],
   "source": [
    "kospi = data.DataReader('KRX:KOSPI', 'google')\n",
    "nasdaq = data.DataReader('NASDAQ:NDAQ', 'google')\n",
    "currency = data.DataReader('DEXKOUS', 'fred')"
   ]
  },
  {
   "cell_type": "code",
   "execution_count": 48,
   "metadata": {
    "collapsed": true
   },
   "outputs": [],
   "source": [
    "kospi['Close_diff'] = kospi['Close'].diff()\n",
    "kospi.dropna(inplace=True)  # drop first data \n",
    "kospi['Direction'] = kospi['Close_diff'].apply(lambda x: 1 if x>=0 else -1 )"
   ]
  },
  {
   "cell_type": "code",
   "execution_count": 52,
   "metadata": {},
   "outputs": [],
   "source": [
    "# compute first order difference natural logarithmatic transformation\n",
    "nasdaq['ln_Close'] = nasdaq['Close'].apply(lambda x: math.log(x))\n",
    "currency['ln_Close'] = currency['DEXKOUS'].apply(lambda x: math.log(x))\n",
    "\n",
    "nasdaq['diff'] = nasdaq['ln_Close'].diff()\n",
    "currency['diff'] = currency['ln_Close'].diff()\n",
    "\n",
    "nasdaq.dropna(inplace=True)\n",
    "currency.dropna(inplace=True)"
   ]
  },
  {
   "cell_type": "code",
   "execution_count": 62,
   "metadata": {},
   "outputs": [],
   "source": [
    "df = nasdaq.join(currency, lsuffix='_nasdaq', rsuffix='_currency')\n",
    "df.fillna(method='ffill', inplace=True)"
   ]
  },
  {
   "cell_type": "code",
   "execution_count": 70,
   "metadata": {},
   "outputs": [],
   "source": [
    "x = df[['diff_nasdaq', 'diff_currency']]"
   ]
  },
  {
   "cell_type": "code",
   "execution_count": 77,
   "metadata": {},
   "outputs": [],
   "source": [
    "import pandas as pd\n",
    "kospi.index = kospi.index - pd.DateOffset(days=1)"
   ]
  },
  {
   "cell_type": "code",
   "execution_count": 81,
   "metadata": {},
   "outputs": [],
   "source": [
    "data = x.join(kospi)\n",
    "\n",
    "data = data[['diff_nasdaq', 'diff_currency', 'Direction']]\n",
    "\n",
    "data.dropna(inplace=True)"
   ]
  },
  {
   "cell_type": "code",
   "execution_count": 92,
   "metadata": {},
   "outputs": [],
   "source": [
    "x = data[['diff_nasdaq', 'diff_currency']]\n",
    "y = data[['Direction']]\n",
    "\n",
    "x_train, x_test, y_train, y_test = train_test_split(x, y, test_size=0.3)"
   ]
  },
  {
   "cell_type": "code",
   "execution_count": 123,
   "metadata": {},
   "outputs": [
    {
     "name": "stdout",
     "output_type": "stream",
     "text": [
      "SVM training score : 0.5329949238578681\n",
      "SVM test score : 0.5011820330969267\n",
      "LDA training score : 0.5928934010152285\n",
      "LDA training score : 0.557919621749409\n",
      "QDA training score : 0.5898477157360406\n",
      "QDA training score : 0.557919621749409\n"
     ]
    },
    {
     "name": "stderr",
     "output_type": "stream",
     "text": [
      "/usr/local/lib/python3.5/dist-packages/sklearn/utils/validation.py:526: DataConversionWarning: A column-vector y was passed when a 1d array was expected. Please change the shape of y to (n_samples, ), for example using ravel().\n",
      "  y = column_or_1d(y, warn=True)\n"
     ]
    }
   ],
   "source": [
    "# SVM\n",
    "svm = SVC(kernel='rbf', gamma=1/10, probability=True)\n",
    "svm = svm.fit(x_train, y_train)\n",
    "\n",
    "print(\"SVM training score : {}\".format(svm.score(x_train, y_train)))\n",
    "print(\"SVM test score : {}\".format(svm.score(x_test, y_test)))\n",
    "\n",
    "# LDA\n",
    "lda = LinearDiscriminantAnalysis().fit(x_train, y_train)\n",
    "print(\"LDA training score : {}\".format(lda.score(x_train, y_train)))\n",
    "print(\"LDA test score : {}\".format(lda.score(x_test, y_test)))\n",
    "\n",
    "# QDA\n",
    "qda = QuadraticDiscriminantAnalysis().fit(x_train, y_train)\n",
    "print(\"QDA training score : {}\".format(qda.score(x_train, y_train)))\n",
    "print(\"QDA test score : {}\".format(qda.score(x_test, y_test)))"
   ]
  },
  {
   "cell_type": "code",
   "execution_count": 124,
   "metadata": {},
   "outputs": [],
   "source": [
    "# Ensemble\n",
    "svm_prob = svm.predict_proba(x_test)\n",
    "lda_prob = lda.predict_proba(x_test)\n",
    "qda_prob = qda.predict_proba(x_test)\n",
    "\n",
    "w1 = svm.score(x_train, y_train)\n",
    "w2 = lda.score(x_train, y_train)\n",
    "w3 = qda.score(x_train, y_train)\n",
    "\n",
    "prob = (w1 * svm_prob + w2 * lda_prob + w3 * qda_prob) / (w1 + w2 + w3)\n",
    "\n",
    "pred = np.argmax(prob, axis=1)\n",
    "pred[pred==0] = -1\n",
    "\n",
    "print(\"Ensemble score : {}\".format(accuracy_score(y_test, pred)))"
   ]
  }
 ],
 "metadata": {
  "kernelspec": {
   "display_name": "Python 3",
   "language": "python",
   "name": "python3"
  },
  "language_info": {
   "codemirror_mode": {
    "name": "ipython",
    "version": 3
   },
   "file_extension": ".py",
   "mimetype": "text/x-python",
   "name": "python",
   "nbconvert_exporter": "python",
   "pygments_lexer": "ipython3",
   "version": "3.5.2"
  }
 },
 "nbformat": 4,
 "nbformat_minor": 2
}
