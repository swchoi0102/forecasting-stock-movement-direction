{
 "cells": [
  {
   "cell_type": "code",
   "execution_count": 1,
   "metadata": {
    "collapsed": true
   },
   "outputs": [],
   "source": [
    "import numpy as np\n",
    "import math\n",
    "import pandas as pd \n",
    "from pandas_datareader import data, wb\n",
    "from datetime import datetime\n",
    "from sklearn.model_selection import train_test_split\n",
    "from sklearn.svm import SVC\n",
    "from sklearn.discriminant_analysis import LinearDiscriminantAnalysis\n",
    "from sklearn.discriminant_analysis import QuadraticDiscriminantAnalysis\n",
    "from sklearn.metrics import accuracy_score"
   ]
  },
  {
   "cell_type": "code",
   "execution_count": 4,
   "metadata": {},
   "outputs": [],
   "source": [
    "# get KOSPI, NASDAQ, US/KRWON currency data\n",
    "kospi = data.DataReader('KRX:KOSPI', 'google')\n",
    "nasdaq = data.DataReader('NASDAQ:NDAQ', 'google')\n",
    "currency = data.DataReader('DEXKOUS', 'fred')"
   ]
  },
  {
   "cell_type": "code",
   "execution_count": 5,
   "metadata": {
    "collapsed": true
   },
   "outputs": [],
   "source": [
    "# make kospi direction feature\n",
    "kospi['Close_diff'] = kospi['Close'].diff()\n",
    "kospi.dropna(inplace=True)  # drop first data \n",
    "kospi['Direction'] = kospi['Close_diff'].apply(lambda x: 1 if x>=0 else -1 )"
   ]
  },
  {
   "cell_type": "code",
   "execution_count": 6,
   "metadata": {},
   "outputs": [],
   "source": [
    "# compute first order difference natural logarithmatic transformation\n",
    "nasdaq['ln_Close'] = nasdaq['Close'].apply(lambda x: math.log(x))\n",
    "currency['ln_Close'] = currency['DEXKOUS'].apply(lambda x: math.log(x))\n",
    "\n",
    "nasdaq['diff'] = nasdaq['ln_Close'].diff()\n",
    "currency['diff'] = currency['ln_Close'].diff()\n",
    "\n",
    "nasdaq.dropna(inplace=True)\n",
    "currency.dropna(inplace=True)"
   ]
  },
  {
   "cell_type": "code",
   "execution_count": 7,
   "metadata": {},
   "outputs": [],
   "source": [
    "# join nasdaq data and currency data\n",
    "df = nasdaq.join(currency, lsuffix='_nasdaq', rsuffix='_currency')\n",
    "df.fillna(method='ffill', inplace=True)\n",
    "\n",
    "# select input feature\n",
    "df = df[['diff_nasdaq', 'diff_currency']]\n",
    "\n",
    "kospi.index = kospi.index - pd.DateOffset(days=1)\n",
    "\n",
    "data = df.join(kospi)\n",
    "data = data[['diff_nasdaq', 'diff_currency', 'Direction']]\n",
    "data.dropna(inplace=True)"
   ]
  },
  {
   "cell_type": "code",
   "execution_count": 11,
   "metadata": {},
   "outputs": [],
   "source": [
    "x = data[['diff_nasdaq', 'diff_currency']]\n",
    "y = data['Direction']\n",
    "\n",
    "x_train, x_test, y_train, y_test = train_test_split(x, y, test_size=0.3)"
   ]
  },
  {
   "cell_type": "code",
   "execution_count": 12,
   "metadata": {},
   "outputs": [
    {
     "name": "stdout",
     "output_type": "stream",
     "text": [
      "SVM training score : 0.515736040609137\n",
      "SVM test score : 0.541371158392435\n",
      "LDA training score : 0.5766497461928934\n",
      "LDA test score : 0.5862884160756501\n",
      "QDA training score : 0.5736040609137056\n",
      "QDA test score : 0.5957446808510638\n"
     ]
    }
   ],
   "source": [
    "# SVM\n",
    "svm = SVC(kernel='rbf', gamma=1/10, probability=True)\n",
    "svm = svm.fit(x_train, y_train)\n",
    "\n",
    "print(\"SVM training score : {}\".format(svm.score(x_train, y_train)))\n",
    "print(\"SVM test score : {}\".format(svm.score(x_test, y_test)))\n",
    "\n",
    "# LDA\n",
    "lda = LinearDiscriminantAnalysis().fit(x_train, y_train)\n",
    "print(\"LDA training score : {}\".format(lda.score(x_train, y_train)))\n",
    "print(\"LDA test score : {}\".format(lda.score(x_test, y_test)))\n",
    "\n",
    "# QDA\n",
    "qda = QuadraticDiscriminantAnalysis().fit(x_train, y_train)\n",
    "print(\"QDA training score : {}\".format(qda.score(x_train, y_train)))\n",
    "print(\"QDA test score : {}\".format(qda.score(x_test, y_test)))"
   ]
  },
  {
   "cell_type": "code",
   "execution_count": 13,
   "metadata": {},
   "outputs": [
    {
     "name": "stdout",
     "output_type": "stream",
     "text": [
      "Ensemble score : 0.5886524822695035\n"
     ]
    }
   ],
   "source": [
    "# Ensemble\n",
    "svm_prob = svm.predict_proba(x_test)\n",
    "lda_prob = lda.predict_proba(x_test)\n",
    "qda_prob = qda.predict_proba(x_test)\n",
    "\n",
    "w1 = svm.score(x_train, y_train)\n",
    "w2 = lda.score(x_train, y_train)\n",
    "w3 = qda.score(x_train, y_train)\n",
    "\n",
    "prob = (w1 * svm_prob + w2 * lda_prob + w3 * qda_prob) / (w1 + w2 + w3)\n",
    "\n",
    "pred = np.argmax(prob, axis=1)\n",
    "pred[pred==0] = -1\n",
    "\n",
    "print(\"Ensemble score : {}\".format(accuracy_score(y_test, pred)))"
   ]
  },
  {
   "cell_type": "code",
   "execution_count": null,
   "metadata": {
    "collapsed": true
   },
   "outputs": [],
   "source": []
  }
 ],
 "metadata": {
  "kernelspec": {
   "display_name": "Python 3",
   "language": "python",
   "name": "python3"
  },
  "language_info": {
   "codemirror_mode": {
    "name": "ipython",
    "version": 3
   },
   "file_extension": ".py",
   "mimetype": "text/x-python",
   "name": "python",
   "nbconvert_exporter": "python",
   "pygments_lexer": "ipython3",
   "version": "3.5.2"
  }
 },
 "nbformat": 4,
 "nbformat_minor": 2
}
